{
 "cells": [
  {
   "cell_type": "code",
   "execution_count": 1,
   "metadata": {},
   "outputs": [],
   "source": [
    "import numpy as np\n",
    "import pandas as pd"
   ]
  },
  {
   "cell_type": "code",
   "execution_count": 3,
   "metadata": {},
   "outputs": [],
   "source": [
    "ufo_data = pd.read_csv('./data/uforawdata/ufosmerged.csv', usecols=[0, 2], low_memory=False)"
   ]
  },
  {
   "cell_type": "code",
   "execution_count": 4,
   "metadata": {},
   "outputs": [
    {
     "data": {
      "text/html": [
       "<div>\n",
       "<style scoped>\n",
       "    .dataframe tbody tr th:only-of-type {\n",
       "        vertical-align: middle;\n",
       "    }\n",
       "\n",
       "    .dataframe tbody tr th {\n",
       "        vertical-align: top;\n",
       "    }\n",
       "\n",
       "    .dataframe thead th {\n",
       "        text-align: right;\n",
       "    }\n",
       "</style>\n",
       "<table border=\"1\" class=\"dataframe\">\n",
       "  <thead>\n",
       "    <tr style=\"text-align: right;\">\n",
       "      <th></th>\n",
       "      <th>datetime</th>\n",
       "      <th>state</th>\n",
       "    </tr>\n",
       "  </thead>\n",
       "  <tbody>\n",
       "    <tr>\n",
       "      <th>count</th>\n",
       "      <td>69536</td>\n",
       "      <td>69532</td>\n",
       "    </tr>\n",
       "    <tr>\n",
       "      <th>unique</th>\n",
       "      <td>59880</td>\n",
       "      <td>51</td>\n",
       "    </tr>\n",
       "    <tr>\n",
       "      <th>top</th>\n",
       "      <td>11/7/2015 18:00:00</td>\n",
       "      <td>AZ</td>\n",
       "    </tr>\n",
       "    <tr>\n",
       "      <th>freq</th>\n",
       "      <td>103</td>\n",
       "      <td>3233</td>\n",
       "    </tr>\n",
       "  </tbody>\n",
       "</table>\n",
       "</div>"
      ],
      "text/plain": [
       "                  datetime  state\n",
       "count                69536  69532\n",
       "unique               59880     51\n",
       "top     11/7/2015 18:00:00     AZ\n",
       "freq                   103   3233"
      ]
     },
     "execution_count": 4,
     "metadata": {},
     "output_type": "execute_result"
    }
   ],
   "source": [
    "ufo_data.describe()"
   ]
  },
  {
   "cell_type": "code",
   "execution_count": 5,
   "metadata": {},
   "outputs": [],
   "source": [
    "ufo_data['datetime'] = pd.to_datetime(ufo_data['datetime'], errors='coerce')\n",
    "#ufo_data.insert(1, 'year', ufo_data['datetime'].dt.year)\n",
    "#ufo_data['year'] = ufo_data['year'].fillna(0).astype(int)\n",
    "ufo_data['year'] = ufo_data['datetime'].dt.year #date\n",
    "ufo_data['state'] = ufo_data['state'].str.upper()"
   ]
  },
  {
   "cell_type": "code",
   "execution_count": 6,
   "metadata": {},
   "outputs": [
    {
     "data": {
      "text/html": [
       "<div>\n",
       "<style scoped>\n",
       "    .dataframe tbody tr th:only-of-type {\n",
       "        vertical-align: middle;\n",
       "    }\n",
       "\n",
       "    .dataframe tbody tr th {\n",
       "        vertical-align: top;\n",
       "    }\n",
       "\n",
       "    .dataframe thead th {\n",
       "        text-align: right;\n",
       "    }\n",
       "</style>\n",
       "<table border=\"1\" class=\"dataframe\">\n",
       "  <thead>\n",
       "    <tr style=\"text-align: right;\">\n",
       "      <th></th>\n",
       "      <th>datetime</th>\n",
       "      <th>state</th>\n",
       "      <th>year</th>\n",
       "    </tr>\n",
       "  </thead>\n",
       "  <tbody>\n",
       "    <tr>\n",
       "      <th>0</th>\n",
       "      <td>2004-01-01 00:00:00</td>\n",
       "      <td>AK</td>\n",
       "      <td>2004.0</td>\n",
       "    </tr>\n",
       "    <tr>\n",
       "      <th>1</th>\n",
       "      <td>2008-01-01 00:08:00</td>\n",
       "      <td>AK</td>\n",
       "      <td>2008.0</td>\n",
       "    </tr>\n",
       "    <tr>\n",
       "      <th>2</th>\n",
       "      <td>2009-01-01 01:15:00</td>\n",
       "      <td>AK</td>\n",
       "      <td>2009.0</td>\n",
       "    </tr>\n",
       "    <tr>\n",
       "      <th>3</th>\n",
       "      <td>2010-01-01 00:01:00</td>\n",
       "      <td>AK</td>\n",
       "      <td>2010.0</td>\n",
       "    </tr>\n",
       "    <tr>\n",
       "      <th>4</th>\n",
       "      <td>2010-01-01 00:20:00</td>\n",
       "      <td>AK</td>\n",
       "      <td>2010.0</td>\n",
       "    </tr>\n",
       "  </tbody>\n",
       "</table>\n",
       "</div>"
      ],
      "text/plain": [
       "             datetime state    year\n",
       "0 2004-01-01 00:00:00    AK  2004.0\n",
       "1 2008-01-01 00:08:00    AK  2008.0\n",
       "2 2009-01-01 01:15:00    AK  2009.0\n",
       "3 2010-01-01 00:01:00    AK  2010.0\n",
       "4 2010-01-01 00:20:00    AK  2010.0"
      ]
     },
     "execution_count": 6,
     "metadata": {},
     "output_type": "execute_result"
    }
   ],
   "source": [
    "ufo_data.head()"
   ]
  },
  {
   "cell_type": "code",
   "execution_count": 7,
   "metadata": {},
   "outputs": [],
   "source": [
    "us_states = np.asarray(['AK', 'AL', 'AR', 'AZ', 'CA', 'CO', 'CT', 'DC', 'DE', 'FL', 'GA',\n",
    "                        'HI', 'IA', 'ID', 'IL', 'IN', 'KS', 'KY', 'LA', 'MA', 'MD', 'ME',\n",
    "                        'MI', 'MN', 'MO', 'MS', 'MT', 'NC', 'ND', 'NE', 'NH', 'NJ', 'NM',\n",
    "                        'NV', 'NY', 'OH', 'OK', 'OR', 'PA', 'RI', 'SC', 'SD', 'TN', 'TX',\n",
    "                        'UT', 'VA', 'VT', 'WA', 'WI', 'WV', 'WY'])"
   ]
  },
  {
   "cell_type": "code",
   "execution_count": 8,
   "metadata": {},
   "outputs": [],
   "source": [
    "ufo_data = ufo_data[ufo_data['state'].isin(us_states)].sort_values('year')"
   ]
  },
  {
   "cell_type": "code",
   "execution_count": 9,
   "metadata": {},
   "outputs": [
    {
     "name": "stdout",
     "output_type": "stream",
     "text": [
      "                 datetime state    year\n",
      "40022 1899-12-30 20:00:00    NH  1899.0\n",
      "59267 1899-12-30 18:00:00    TN  1899.0\n",
      "59264 1899-12-30 21:00:00    TN  1899.0\n",
      "55568 1899-12-30 21:00:00    RI  1899.0\n",
      "23298 1899-12-30 02:45:00    KY  1899.0\n",
      "52679 1899-12-30 21:40:00    OR  1899.0\n",
      "50008 1899-12-30 22:00:00    OK  1899.0\n",
      "38449 1899-12-30 18:30:00    NC  1899.0\n",
      "61985 1899-12-30 14:00:00    UT  1899.0\n",
      "52682 1899-12-30 18:00:00    OR  1899.0\n",
      "44679 1899-12-30 02:00:00    NV  1899.0\n",
      "68731 1899-12-30 17:30:00    WV  1899.0\n",
      "34342 1899-12-30 21:21:00    MO  1899.0\n",
      "11372 1899-12-30 22:00:00    CT  1899.0\n",
      "1543  1899-12-30 18:00:00    AL  1899.0\n",
      "2425  1899-12-30 01:10:00    AR  1899.0\n",
      "61986 1899-12-30 05:00:00    UT  1899.0\n",
      "68033 1899-12-30 11:00:00    WI  1899.0\n",
      "32175 1899-12-30 03:00:00    MN  1899.0\n",
      "44678 1899-12-30 03:00:00    NV  1899.0\n",
      "59268 1899-12-30 13:00:00    TN  1899.0\n",
      "63988 1905-07-02 00:00:00    VA  1905.0\n",
      "34338 1930-08-10 23:00:00    MO  1930.0\n",
      "42166 1930-06-30 20:00:00    NJ  1930.0\n",
      "22036 1931-06-01 13:00:00    KS  1931.0\n",
      "38649 1934-09-15 15:30:00    ND  1934.0\n",
      "62    1936-10-15 17:00:00    AK  1936.0\n",
      "52676 1937-06-15 00:00:00    OR  1937.0\n",
      "1542  1939-06-01 20:00:00    AL  1939.0\n",
      "16988 1939-07-07 00:00:00    IA  1939.0\n",
      "...                   ...   ...     ...\n",
      "40021                 NaT    NH     NaN\n",
      "40023                 NaT    NH     NaN\n",
      "42167                 NaT    NJ     NaN\n",
      "43377                 NaT    NM     NaN\n",
      "43378                 NaT    NM     NaN\n",
      "43379                 NaT    NM     NaN\n",
      "44675                 NaT    NV     NaN\n",
      "44676                 NaT    NV     NaN\n",
      "44677                 NaT    NV     NaN\n",
      "44680                 NaT    NV     NaN\n",
      "50009                 NaT    OK     NaN\n",
      "50010                 NaT    OK     NaN\n",
      "50011                 NaT    OK     NaN\n",
      "52680                 NaT    OR     NaN\n",
      "52681                 NaT    OR     NaN\n",
      "52683                 NaT    OR     NaN\n",
      "52684                 NaT    OR     NaN\n",
      "55567                 NaT    RI     NaN\n",
      "55569                 NaT    RI     NaN\n",
      "57543                 NaT    SD     NaN\n",
      "59265                 NaT    TN     NaN\n",
      "59266                 NaT    TN     NaN\n",
      "59269                 NaT    TN     NaN\n",
      "59270                 NaT    TN     NaN\n",
      "61987                 NaT    UT     NaN\n",
      "63987                 NaT    VA     NaN\n",
      "68034                 NaT    WI     NaN\n",
      "68729                 NaT    WV     NaN\n",
      "68732                 NaT    WV     NaN\n",
      "68733                 NaT    WV     NaN\n",
      "\n",
      "[69531 rows x 3 columns]\n"
     ]
    }
   ],
   "source": [
    "print(ufo_data)"
   ]
  },
  {
   "cell_type": "code",
   "execution_count": 10,
   "metadata": {},
   "outputs": [
    {
     "data": {
      "text/plain": [
       "state  year  \n",
       "AK     1936.0     1\n",
       "       1943.0     1\n",
       "       1949.0     2\n",
       "       1954.0     1\n",
       "       1955.0     1\n",
       "       1957.0     4\n",
       "       1962.0     1\n",
       "       1966.0     2\n",
       "       1967.0     2\n",
       "       1968.0     6\n",
       "       1969.0     8\n",
       "       1972.0     2\n",
       "       1973.0     2\n",
       "       1974.0     4\n",
       "       1975.0     2\n",
       "       1976.0    10\n",
       "       1977.0     2\n",
       "       1978.0     6\n",
       "       1980.0     2\n",
       "       1981.0     2\n",
       "       1982.0     2\n",
       "       1983.0     2\n",
       "       1984.0     4\n",
       "       1985.0     4\n",
       "       1986.0    10\n",
       "       1987.0     6\n",
       "       1988.0     4\n",
       "       1989.0     4\n",
       "       1990.0     6\n",
       "       1993.0     2\n",
       "                 ..\n",
       "WY     1984.0     1\n",
       "       1985.0     2\n",
       "       1987.0     1\n",
       "       1989.0     3\n",
       "       1992.0     1\n",
       "       1993.0     4\n",
       "       1994.0     4\n",
       "       1995.0     1\n",
       "       1996.0     3\n",
       "       1997.0     2\n",
       "       1998.0     9\n",
       "       1999.0    14\n",
       "       2000.0     7\n",
       "       2001.0    17\n",
       "       2002.0    15\n",
       "       2003.0     9\n",
       "       2004.0     6\n",
       "       2005.0    12\n",
       "       2006.0    11\n",
       "       2007.0     9\n",
       "       2008.0    12\n",
       "       2009.0     5\n",
       "       2010.0    13\n",
       "       2011.0    21\n",
       "       2012.0    14\n",
       "       2013.0    17\n",
       "       2014.0    21\n",
       "       2015.0    19\n",
       "       2016.0    15\n",
       "       2017.0     9\n",
       "Name: state, Length: 2202, dtype: int64"
      ]
     },
     "execution_count": 10,
     "metadata": {},
     "output_type": "execute_result"
    }
   ],
   "source": [
    "#ufo_data['state'].value_counts()\n",
    "ufo_data.groupby(['state','year'])['state'].count()"
   ]
  },
  {
   "cell_type": "code",
   "execution_count": null,
   "metadata": {},
   "outputs": [],
   "source": []
  }
 ],
 "metadata": {
  "kernelspec": {
   "display_name": "Python 3",
   "language": "python",
   "name": "python3"
  },
  "language_info": {
   "codemirror_mode": {
    "name": "ipython",
    "version": 3
   },
   "file_extension": ".py",
   "mimetype": "text/x-python",
   "name": "python",
   "nbconvert_exporter": "python",
   "pygments_lexer": "ipython3",
   "version": "3.6.4"
  }
 },
 "nbformat": 4,
 "nbformat_minor": 2
}
